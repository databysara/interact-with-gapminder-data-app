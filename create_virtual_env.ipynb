{
 "cells": [
  {
   "cell_type": "code",
   "execution_count": 1,
   "id": "8ff9d663",
   "metadata": {},
   "outputs": [
    {
     "name": "stdout",
     "output_type": "stream",
     "text": [
      "Collecting streamlit==0.85.0\n",
      "  Downloading streamlit-0.85.0-py2.py3-none-any.whl (7.9 MB)\n",
      "\u001b[K     |████████████████████████████████| 7.9 MB 1.1 MB/s eta 0:00:01\n",
      "\u001b[?25hCollecting plotly==5.1.0\n",
      "  Downloading plotly-5.1.0-py2.py3-none-any.whl (20.6 MB)\n",
      "\u001b[K     |████████████████████████████████| 20.6 MB 661 kB/s  eta 0:00:01\n",
      "\u001b[?25hRequirement already satisfied: pillow>=6.2.0 in /Users/smartkid5/opt/anaconda3/lib/python3.9/site-packages (from streamlit==0.85.0->-r requirements.txt (line 1)) (9.0.1)\n",
      "Requirement already satisfied: cachetools>=4.0 in /Users/smartkid5/opt/anaconda3/lib/python3.9/site-packages (from streamlit==0.85.0->-r requirements.txt (line 1)) (4.2.2)\n",
      "Requirement already satisfied: pandas>=0.21.0 in /Users/smartkid5/opt/anaconda3/lib/python3.9/site-packages (from streamlit==0.85.0->-r requirements.txt (line 1)) (1.4.2)\n",
      "Requirement already satisfied: pyarrow in /Users/smartkid5/opt/anaconda3/lib/python3.9/site-packages (from streamlit==0.85.0->-r requirements.txt (line 1)) (10.0.1)\n",
      "Requirement already satisfied: validators in /Users/smartkid5/opt/anaconda3/lib/python3.9/site-packages (from streamlit==0.85.0->-r requirements.txt (line 1)) (0.20.0)\n",
      "Collecting astor\n",
      "  Downloading astor-0.8.1-py2.py3-none-any.whl (27 kB)\n",
      "Requirement already satisfied: altair>=3.2.0 in /Users/smartkid5/opt/anaconda3/lib/python3.9/site-packages (from streamlit==0.85.0->-r requirements.txt (line 1)) (4.2.0)\n",
      "Requirement already satisfied: python-dateutil in /Users/smartkid5/opt/anaconda3/lib/python3.9/site-packages (from streamlit==0.85.0->-r requirements.txt (line 1)) (2.8.2)\n",
      "Requirement already satisfied: tornado>=5.0 in /Users/smartkid5/opt/anaconda3/lib/python3.9/site-packages (from streamlit==0.85.0->-r requirements.txt (line 1)) (6.1)\n",
      "Requirement already satisfied: packaging in /Users/smartkid5/opt/anaconda3/lib/python3.9/site-packages (from streamlit==0.85.0->-r requirements.txt (line 1)) (21.3)\n",
      "Requirement already satisfied: tzlocal in /Users/smartkid5/opt/anaconda3/lib/python3.9/site-packages (from streamlit==0.85.0->-r requirements.txt (line 1)) (4.2)\n",
      "Collecting base58\n",
      "  Using cached base58-2.1.1-py3-none-any.whl (5.6 kB)\n",
      "Requirement already satisfied: numpy in /Users/smartkid5/opt/anaconda3/lib/python3.9/site-packages (from streamlit==0.85.0->-r requirements.txt (line 1)) (1.21.5)\n",
      "Requirement already satisfied: click<8.0,>=7.0 in /Users/smartkid5/opt/anaconda3/lib/python3.9/site-packages (from streamlit==0.85.0->-r requirements.txt (line 1)) (7.1.2)\n",
      "Requirement already satisfied: gitpython in /Users/smartkid5/opt/anaconda3/lib/python3.9/site-packages (from streamlit==0.85.0->-r requirements.txt (line 1)) (3.1.30)\n",
      "Requirement already satisfied: toml in /Users/smartkid5/opt/anaconda3/lib/python3.9/site-packages (from streamlit==0.85.0->-r requirements.txt (line 1)) (0.10.2)\n",
      "Requirement already satisfied: attrs in /Users/smartkid5/opt/anaconda3/lib/python3.9/site-packages (from streamlit==0.85.0->-r requirements.txt (line 1)) (21.4.0)\n",
      "Requirement already satisfied: blinker in /Users/smartkid5/opt/anaconda3/lib/python3.9/site-packages (from streamlit==0.85.0->-r requirements.txt (line 1)) (1.5)\n",
      "Requirement already satisfied: requests in /Users/smartkid5/opt/anaconda3/lib/python3.9/site-packages (from streamlit==0.85.0->-r requirements.txt (line 1)) (2.27.1)\n",
      "Requirement already satisfied: pydeck>=0.1.dev5 in /Users/smartkid5/opt/anaconda3/lib/python3.9/site-packages (from streamlit==0.85.0->-r requirements.txt (line 1)) (0.8.0)\n",
      "Requirement already satisfied: protobuf!=3.11,>=3.6.0 in /Users/smartkid5/opt/anaconda3/lib/python3.9/site-packages (from streamlit==0.85.0->-r requirements.txt (line 1)) (3.19.1)\n",
      "Requirement already satisfied: tenacity>=6.2.0 in /Users/smartkid5/opt/anaconda3/lib/python3.9/site-packages (from plotly==5.1.0->-r requirements.txt (line 2)) (8.0.1)\n",
      "Requirement already satisfied: six in /Users/smartkid5/opt/anaconda3/lib/python3.9/site-packages (from plotly==5.1.0->-r requirements.txt (line 2)) (1.16.0)\n",
      "Requirement already satisfied: entrypoints in /Users/smartkid5/opt/anaconda3/lib/python3.9/site-packages (from altair>=3.2.0->streamlit==0.85.0->-r requirements.txt (line 1)) (0.4)\n",
      "Requirement already satisfied: jsonschema>=3.0 in /Users/smartkid5/opt/anaconda3/lib/python3.9/site-packages (from altair>=3.2.0->streamlit==0.85.0->-r requirements.txt (line 1)) (4.4.0)\n",
      "Requirement already satisfied: toolz in /Users/smartkid5/opt/anaconda3/lib/python3.9/site-packages (from altair>=3.2.0->streamlit==0.85.0->-r requirements.txt (line 1)) (0.11.2)\n",
      "Requirement already satisfied: jinja2 in /Users/smartkid5/.local/lib/python3.9/site-packages (from altair>=3.2.0->streamlit==0.85.0->-r requirements.txt (line 1)) (3.1.2)\n",
      "Requirement already satisfied: pyrsistent!=0.17.0,!=0.17.1,!=0.17.2,>=0.14.0 in /Users/smartkid5/opt/anaconda3/lib/python3.9/site-packages (from jsonschema>=3.0->altair>=3.2.0->streamlit==0.85.0->-r requirements.txt (line 1)) (0.18.0)\n",
      "Requirement already satisfied: pytz>=2020.1 in /Users/smartkid5/opt/anaconda3/lib/python3.9/site-packages (from pandas>=0.21.0->streamlit==0.85.0->-r requirements.txt (line 1)) (2022.7.1)\n",
      "Requirement already satisfied: MarkupSafe>=2.0 in /Users/smartkid5/.local/lib/python3.9/site-packages (from jinja2->altair>=3.2.0->streamlit==0.85.0->-r requirements.txt (line 1)) (2.1.1)\n",
      "Requirement already satisfied: gitdb<5,>=4.0.1 in /Users/smartkid5/opt/anaconda3/lib/python3.9/site-packages (from gitpython->streamlit==0.85.0->-r requirements.txt (line 1)) (4.0.10)\n",
      "Requirement already satisfied: smmap<6,>=3.0.1 in /Users/smartkid5/opt/anaconda3/lib/python3.9/site-packages (from gitdb<5,>=4.0.1->gitpython->streamlit==0.85.0->-r requirements.txt (line 1)) (5.0.0)\n",
      "Requirement already satisfied: pyparsing!=3.0.5,>=2.0.2 in /Users/smartkid5/opt/anaconda3/lib/python3.9/site-packages (from packaging->streamlit==0.85.0->-r requirements.txt (line 1)) (3.0.4)\n",
      "Requirement already satisfied: urllib3<1.27,>=1.21.1 in /Users/smartkid5/opt/anaconda3/lib/python3.9/site-packages (from requests->streamlit==0.85.0->-r requirements.txt (line 1)) (1.26.9)\n",
      "Requirement already satisfied: certifi>=2017.4.17 in /Users/smartkid5/opt/anaconda3/lib/python3.9/site-packages (from requests->streamlit==0.85.0->-r requirements.txt (line 1)) (2022.9.24)\n",
      "Requirement already satisfied: charset-normalizer~=2.0.0 in /Users/smartkid5/opt/anaconda3/lib/python3.9/site-packages (from requests->streamlit==0.85.0->-r requirements.txt (line 1)) (2.0.4)\n",
      "Requirement already satisfied: idna<4,>=2.5 in /Users/smartkid5/opt/anaconda3/lib/python3.9/site-packages (from requests->streamlit==0.85.0->-r requirements.txt (line 1)) (3.3)\n",
      "Requirement already satisfied: pytz-deprecation-shim in /Users/smartkid5/opt/anaconda3/lib/python3.9/site-packages (from tzlocal->streamlit==0.85.0->-r requirements.txt (line 1)) (0.1.0.post0)\n",
      "Requirement already satisfied: tzdata in /Users/smartkid5/opt/anaconda3/lib/python3.9/site-packages (from pytz-deprecation-shim->tzlocal->streamlit==0.85.0->-r requirements.txt (line 1)) (2022.7)\n",
      "Requirement already satisfied: decorator>=3.4.0 in /Users/smartkid5/opt/anaconda3/lib/python3.9/site-packages (from validators->streamlit==0.85.0->-r requirements.txt (line 1)) (5.1.1)\n",
      "Installing collected packages: base58, astor, streamlit, plotly\n",
      "  Attempting uninstall: streamlit\n",
      "    Found existing installation: streamlit 1.17.0\n",
      "    Uninstalling streamlit-1.17.0:\n",
      "      Successfully uninstalled streamlit-1.17.0\n",
      "  Attempting uninstall: plotly\n",
      "    Found existing installation: plotly 5.6.0\n",
      "    Uninstalling plotly-5.6.0:\n",
      "      Successfully uninstalled plotly-5.6.0\n",
      "Successfully installed astor-0.8.1 base58-2.1.1 plotly-5.1.0 streamlit-0.85.0\n",
      "Installed kernelspec env in /Users/smartkid5/Library/Jupyter/kernels/env\n"
     ]
    }
   ],
   "source": [
    "!python3 -m venv env\n",
    "!pip install -r requirements.txt\n",
    "\n",
    "# add kernel\n",
    "!python -m ipykernel install --user --name env"
   ]
  },
  {
   "cell_type": "code",
   "execution_count": null,
   "id": "44fc33d7",
   "metadata": {},
   "outputs": [],
   "source": []
  }
 ],
 "metadata": {
  "kernelspec": {
   "display_name": "Python 3 (ipykernel)",
   "language": "python",
   "name": "python3"
  },
  "language_info": {
   "codemirror_mode": {
    "name": "ipython",
    "version": 3
   },
   "file_extension": ".py",
   "mimetype": "text/x-python",
   "name": "python",
   "nbconvert_exporter": "python",
   "pygments_lexer": "ipython3",
   "version": "3.9.12"
  }
 },
 "nbformat": 4,
 "nbformat_minor": 5
}
